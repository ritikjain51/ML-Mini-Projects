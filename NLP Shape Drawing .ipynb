{
 "cells": [
  {
   "cell_type": "code",
   "execution_count": 18,
   "metadata": {},
   "outputs": [],
   "source": [
    "import re\n",
    "import matplotlib.pyplot as plt\n",
    "try:\n",
    "    import speech_recognition as sr\n",
    "except ImportError as e:\n",
    "    !pip install SpeechRecognition\n",
    "    !pip install PyAudio\n",
    "    import speech_recognition as sr"
   ]
  },
  {
   "cell_type": "code",
   "execution_count": 19,
   "metadata": {},
   "outputs": [],
   "source": [
    "class Shape_Process(object):\n",
    "    \n",
    "    def __init__(self, query):\n",
    "        self.query = query.lower()\n",
    "        self.split_query = self.query.split()\n",
    "        \n",
    "    def get_shape(self):\n",
    "        \n",
    "        shapes = ['line', 'triangle', 'circle', 'rectangle', 'square', 'pentagon', 'hexagon',  'heptagon', 'octagon', 'nonagon', 'decagon']\n",
    "        return list(filter(lambda x: x in shapes, self.split_query))[0]\n",
    "    \n",
    "    def check_draw_type(self):\n",
    "        if ('draw' in self.query):\n",
    "            return 'draw'\n",
    "        elif ('fill' in self.query):\n",
    "            return 'fill'\n",
    "    \n",
    "    def get_color(self):\n",
    "        \n",
    "        colors = ['alice blue', 'antique white', 'aqua', 'aquamarine', 'azure', 'beige', 'bisque', 'black', 'blanched almond', 'blue', 'blue violet', 'brown', 'burly wood', 'cadet blue', 'chartreuse', 'chocolate', 'coral', 'cornflower blue', 'cornsilk', 'crimson', 'cyan', 'dark blue', 'dark cyan', 'dark golden rod', 'dark gray', 'dark grey', 'dark green', 'dark khaki', 'dark magenta', 'dark olive green', 'dark orange', 'dark orchid', 'dark red', 'dark salmon', 'dark sea green', 'dark slate blue', 'dark slate gray', 'dark slate grey', 'dark turquoise', 'dark violet', 'deep pink', 'deep sky blue', 'dim gray', 'dim grey', 'dodger blue', 'fire brick', 'floral white', 'forest green', 'fuchsia', 'gainsboro', 'ghost white', 'gold', 'golden rod', 'gray', 'grey', 'green', 'green yellow', 'honey dew', 'hot pink', 'indian red', 'indigo', 'ivory', 'khaki', 'lavender', 'lavender blush', 'lawn green', 'lemon chiffon', 'light blue', 'light coral', 'light cyan', 'light golden rod yellow', 'light gray', 'light grey', 'light green', 'light pink', 'light salmon', 'light sea green', 'light sky blue', 'light slate gray', 'light slate grey', 'light steel blue', 'light yellow', 'lime', 'lime green', 'linen', 'magenta', 'maroon', 'medium aqua marine', 'medium blue', 'medium orchid', 'medium purple', 'medium sea green', 'medium slate blue', 'medium spring green', 'medium turquoise', 'medium violet red', 'midnight blue', 'mint cream', 'misty rose', 'moccasin', 'navajo white', 'navy', 'old lace', 'olive', 'olive drab', 'orange', 'orange red', 'orchid', 'pale golden rod', 'pale green', 'pale turquoise', 'pale violet red', 'papaya whip', 'peach puff', 'peru', 'pink', 'plum', 'powder blue', 'purple', 'rebecca purple', 'red', 'rosy brown', 'royal blue', 'saddle brown', 'salmon', 'sandy brown', 'sea green', 'sea shell', 'sienna', 'silver', 'sky blue', 'slate blue', 'slate gray', 'slate grey', 'snow', 'spring green', 'steel blue', 'tan', 'teal', 'thistle', 'tomato', 'turquoise', 'violet', 'wheat', 'white', 'white smoke', 'yellow', 'yellow green']\n",
    "        return [x for x in colors if x in self.query] or ['blue']\n",
    "    \n",
    "    def get_coordinates(self):\n",
    "        pattern = re.compile(r'at.+?(\\d+)\\D{0,}(\\d+)')\n",
    "        group = pattern.search(self.query)\n",
    "        x = tuple(map(int, group.groups()))\n",
    "        return x\n",
    "    \n",
    "    def get_size(self):\n",
    "        \n",
    "        pattern = re.compile(r'\\b[radius|side|length|width|height]+\\D*(\\d*)\\b')\n",
    "        data = pattern.findall(self.query)\n",
    "        coordinate = tuple(map(int, data))\n",
    "        return coordinate\n",
    "    \n",
    "    def plot_shape(self):\n",
    "\n",
    "        shape = self.get_shape()\n",
    "        color = self.get_color()[0].replace(' ', '')\n",
    "        coordinate = self.get_coordinates()\n",
    "        size = self.get_size()\n",
    "        draw_type = self.check_draw_type()\n",
    "        \n",
    "        if(draw_type == 'draw'):\n",
    "            fill = False\n",
    "        else:\n",
    "            fill = True\n",
    "        \n",
    "        if (shape == 'circle'):\n",
    "                plt.xlim(coordinate[0] - size[0] - 10, coordinate[0] + size[0] + 10)\n",
    "                plt.ylim(coordinate[1] - size[0] - 10, coordinate[1] + size[0] + 10)\n",
    "                c = plt.Circle((coordinate[0], coordinate[1]), size[0], fill = fill, fc = color)\n",
    "                plt.gcf().gca().add_patch(c)\n",
    "        elif (shape == 'square'):\n",
    "            plt.xlim(coordinate[0] - size[0] - 10, coordinate[0] + size[0] + 10)\n",
    "            plt.ylim(coordinate[1] - size[0] - 10, coordinate[1] + size[0] + 10)\n",
    "            square = plt.Rectangle((coordinate[0], coordinate[1]), size[0], size[0], fc = color, fill = fill)\n",
    "            plt.gcf().gca().add_patch(square)\n",
    "            \n",
    "        elif (shape == 'rectangle'):\n",
    "            plt.xlim(coordinate[0] - size[0] - 10, coordinate[0] + size[0] + 10)\n",
    "            plt.ylim(coordinate[1] - size[0] - 10, coordinate[1] + size[0] + 10)\n",
    "            square = plt.Rectangle((coordinate[0], coordinate[1]), size[0], size[1], fc = color, fill = fill)\n",
    "            plt.gcf().gca().add_patch(square)\n",
    "            \n",
    "        elif (shape == 'triangle'):\n",
    "            plt.xlim(coordinate[0] - size[0] - 10, coordinate[0] + size[0] + 10)\n",
    "            plt.ylim(coordinate[1] - size[0] - 10, coordinate[1] + size[0] + 10)\n",
    "            x = coordinate[0]\n",
    "            y = coordinate[1]\n",
    "            h = size[0]\n",
    "            b = size[1]\n",
    "            triangle = plt.Polygon([(x, y), (x - h, y - b/ 2), (x - h, y + b)], closed = True, fc = color, fill = fill)\n",
    "            plt.gcf().gca().add_patch(triangle)"
   ]
  },
  {
   "cell_type": "code",
   "execution_count": 20,
   "metadata": {},
   "outputs": [],
   "source": [
    "s = Shape_Process('fill square with redcolor of radius 10 at position 200, 200')"
   ]
  },
  {
   "cell_type": "code",
   "execution_count": 21,
   "metadata": {},
   "outputs": [
    {
     "data": {
      "image/png": "[encoded data removed]",
      "text/plain": [
       "<Figure size 432x288 with 1 Axes>"
      ]
     },
     "metadata": {
      "needs_background": "light"
     },
     "output_type": "display_data"
    }
   ],
   "source": [
    "s.plot_shape()"
   ]
  },
  {
   "cell_type": "code",
   "execution_count": 22,
   "metadata": {},
   "outputs": [],
   "source": [
    "s = Shape_Process('fill rectangle with blue color of lenght is 10 width is 20 at position 200, 200')"
   ]
  },
  {
   "cell_type": "code",
   "execution_count": 23,
   "metadata": {},
   "outputs": [
    {
     "data": {
      "image/png": "[encoded data removed]",
      "text/plain": [
       "<Figure size 432x288 with 1 Axes>"
      ]
     },
     "metadata": {
      "needs_background": "light"
     },
     "output_type": "display_data"
    }
   ],
   "source": [
    "s.plot_shape()"
   ]
  },
  {
   "cell_type": "code",
   "execution_count": 24,
   "metadata": {},
   "outputs": [],
   "source": [
    "s = Shape_Process('draw triangle of height 10 base of 20 at 10, 10')"
   ]
  },
  {
   "cell_type": "code",
   "execution_count": 25,
   "metadata": {},
   "outputs": [
    {
     "data": {
      "image/png": "[encoded data removed]",
      "text/plain": [
       "<Figure size 432x288 with 1 Axes>"
      ]
     },
     "metadata": {
      "needs_background": "light"
     },
     "output_type": "display_data"
    }
   ],
   "source": [
    "s.plot_shape()"
   ]
  },
  {
   "cell_type": "code",
   "execution_count": 52,
   "metadata": {},
   "outputs": [],
   "source": [
    "def draw_shape():\n",
    "    rec = sr.Recognizer()\n",
    "    with sr.Microphone() as source:\n",
    "    \n",
    "        print ('Say Something!')\n",
    "        audio = rec.listen(source,timeout=2,phrase_time_limit=10)\n",
    "        print ('Time Over, Thanks')\n",
    "        text = rec.recognize_google(audio)\n",
    "        print (text)\n",
    "        sc = Shape_Process(text)\n",
    "        sc.plot_shape()"
   ]
  },
  {
   "cell_type": "code",
   "execution_count": 56,
   "metadata": {},
   "outputs": [
    {
     "name": "stdout",
     "output_type": "stream",
     "text": [
      "Say Something!\n",
      "Time Over, Thanks\n",
      "draw a rectangle of length 20 and where 10 at 20, 10\n"
     ]
    },
    {
     "data": {
      "image/png": "[encoded data removed]",
      "text/plain": [
       "<Figure size 432x288 with 1 Axes>"
      ]
     },
     "metadata": {
      "needs_background": "light"
     },
     "output_type": "display_data"
    }
   ],
   "source": [
    "draw_shape()"
   ]
  },
  {
   "cell_type": "code",
   "execution_count": null,
   "metadata": {},
   "outputs": [],
   "source": []
  }
 ],
 "metadata": {
  "kernelspec": {
   "display_name": "Python 3",
   "language": "python",
   "name": "python3"
  },
  "language_info": {
   "codemirror_mode": {
    "name": "ipython",
    "version": 3
   },
   "file_extension": ".py",
   "mimetype": "text/x-python",
   "name": "python",
   "nbconvert_exporter": "python",
   "pygments_lexer": "ipython3",
   "version": "3.7.3"
  }
 },
 "nbformat": 4,
 "nbformat_minor": 2
}
